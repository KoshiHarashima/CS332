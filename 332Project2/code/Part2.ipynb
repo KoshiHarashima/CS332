{
 "cells": [
  {
   "cell_type": "code",
   "execution_count": null,
   "id": "1c858965",
   "metadata": {},
   "outputs": [],
   "source": [
    "# import library\n",
    "# please save figures in the folder named \"figures\"\n",
    "\n"
   ]
  },
  {
   "cell_type": "markdown",
   "id": "d03dad4e",
   "metadata": {},
   "source": [
    "- What to do\n",
    "    - find data which reflect the real world situations in which at discrete rounds, you have to choose one option and get payoff depend on the option.\n",
    "    - find specicific setting."
   ]
  },
  {
   "cell_type": "markdown",
   "id": "ec594d28",
   "metadata": {},
   "source": [
    "# C. Data in the wild"
   ]
  },
  {
   "cell_type": "code",
   "execution_count": null,
   "id": "e372bb76",
   "metadata": {},
   "outputs": [],
   "source": []
  },
  {
   "cell_type": "markdown",
   "id": "caebd680",
   "metadata": {},
   "source": [
    "# D. Adversarial generative model"
   ]
  },
  {
   "cell_type": "code",
   "execution_count": null,
   "id": "4c13f22e",
   "metadata": {},
   "outputs": [],
   "source": []
  }
 ],
 "metadata": {
  "kernelspec": {
   "display_name": "Python 3",
   "language": "python",
   "name": "python3"
  },
  "language_info": {
   "name": "python",
   "version": "3.9.6"
  }
 },
 "nbformat": 4,
 "nbformat_minor": 5
}
