{
 "cells": [
  {
   "cell_type": "code",
   "execution_count": null,
   "id": "a8be4495",
   "metadata": {},
   "outputs": [],
   "source": [
    "# import library\n",
    "# please save figures in the folder named \"figures\"\n"
   ]
  },
  {
   "cell_type": "markdown",
   "id": "d6f49872",
   "metadata": {},
   "source": [
    "- what to do\n",
    "    - give raphs for each learning rate\n",
    "    - the change of regret?, total payoff, decisions?\n",
    "    - horizontal axis must be the number of rounds\n",
    "    - vertical axis must be one of them."
   ]
  },
  {
   "cell_type": "markdown",
   "id": "b40b7ab1",
   "metadata": {},
   "source": [
    "# A. Adversarial Fair Payoff"
   ]
  },
  {
   "cell_type": "code",
   "execution_count": null,
   "id": "aa9313ff",
   "metadata": {},
   "outputs": [],
   "source": []
  },
  {
   "cell_type": "markdown",
   "id": "5e3889ad",
   "metadata": {},
   "source": [
    "# B. Bernoulli Payoff"
   ]
  },
  {
   "cell_type": "code",
   "execution_count": null,
   "id": "4709cb69",
   "metadata": {},
   "outputs": [],
   "source": []
  },
  {
   "cell_type": "markdown",
   "id": "670ba2b4",
   "metadata": {},
   "source": [
    "# Data in the wild"
   ]
  },
  {
   "cell_type": "code",
   "execution_count": null,
   "id": "979e3713",
   "metadata": {},
   "outputs": [],
   "source": []
  },
  {
   "cell_type": "markdown",
   "id": "afa39dde",
   "metadata": {},
   "source": [
    "# Adversarial generative model"
   ]
  },
  {
   "cell_type": "code",
   "execution_count": null,
   "id": "03e6d00a",
   "metadata": {},
   "outputs": [],
   "source": []
  }
 ],
 "metadata": {
  "kernelspec": {
   "display_name": "Python 3",
   "language": "python",
   "name": "python3"
  },
  "language_info": {
   "name": "python",
   "version": "3.9.6"
  }
 },
 "nbformat": 4,
 "nbformat_minor": 5
}
